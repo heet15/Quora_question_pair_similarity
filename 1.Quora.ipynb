{
 "cells": [
  {
   "cell_type": "markdown",
   "metadata": {
    "colab_type": "text",
    "id": "jcB8JS-_s5Vq"
   },
   "source": [
    "![Quora-1.png](attachment:Quora-1.png)"
   ]
  },
  {
   "cell_type": "markdown",
   "metadata": {
    "colab_type": "text",
    "id": "J6rnhr2Xs5Vs"
   },
   "source": [
    "<h1 style=\"text-align:center;font-size:30px;\" > Quora Question Pairs </h1>"
   ]
  },
  {
   "cell_type": "markdown",
   "metadata": {
    "colab_type": "text",
    "id": "o9fciGc7s5Vu"
   },
   "source": [
    "<h1> 1. Business Problem </h1>"
   ]
  },
  {
   "cell_type": "markdown",
   "metadata": {
    "colab_type": "text",
    "id": "LRzmxjKxs5Vw"
   },
   "source": [
    "<h2> 1.1 Description </h2>"
   ]
  },
  {
   "cell_type": "markdown",
   "metadata": {
    "colab_type": "text",
    "id": "1nlaIYe9s5Vx"
   },
   "source": [
    "<p>Quora is a place to gain and share knowledge—about anything. It’s a platform to ask questions and connect with people who contribute unique insights and quality answers. This empowers people to learn from each other and to better understand the world.</p>\n",
    "<p>\n",
    "Over 100 million people visit Quora every month, so it's no surprise that many people ask similarly worded questions. Multiple questions with the same intent can cause seekers to spend more time finding the best answer to their question, and make writers feel they need to answer multiple versions of the same question. Quora values canonical questions because they provide a better experience to active seekers and writers, and offer more value to both of these groups in the long term.\n",
    "</p>\n",
    "<br>\n",
    "> Credits: Kaggle \n"
   ]
  },
  {
   "cell_type": "markdown",
   "metadata": {
    "colab_type": "text",
    "id": "wdWP5SdFs5Vy"
   },
   "source": [
    "__ Problem Statement __\n",
    "- Identify which questions asked on Quora are duplicates of questions that have already been asked. \n",
    "- This could be useful to instantly provide answers to questions that have already been answered. \n",
    "- We are tasked with predicting whether a pair of questions are duplicates or not. "
   ]
  },
  {
   "cell_type": "markdown",
   "metadata": {
    "colab_type": "text",
    "id": "34hYn911s5V0"
   },
   "source": [
    "<h2> 1.2 Sources/Useful Links</h2>"
   ]
  },
  {
   "cell_type": "markdown",
   "metadata": {
    "colab_type": "text",
    "id": "7YIjqVPgs5V4"
   },
   "source": [
    "- Source : https://www.kaggle.com/c/quora-question-pairs\n",
    "<br><br>____ Useful Links ____\n",
    "- Discussions : https://www.kaggle.com/anokas/data-analysis-xgboost-starter-0-35460-lb/comments\n",
    "- Kaggle Winning Solution and other approaches: https://www.dropbox.com/sh/93968nfnrzh8bp5/AACZdtsApc1QSTQc7X0H3QZ5a?dl=0\n",
    "- Blog 1 : https://engineering.quora.com/Semantic-Question-Matching-with-Deep-Learning\n",
    "- Blog 2 : https://towardsdatascience.com/identifying-duplicate-questions-on-quora-top-12-on-kaggle-4c1cf93f1c30"
   ]
  },
  {
   "cell_type": "markdown",
   "metadata": {
    "colab_type": "text",
    "id": "jlNRUR4Ws5V5"
   },
   "source": [
    "<h2>1.3 Real world/Business Objectives and Constraints </h2>"
   ]
  },
  {
   "cell_type": "markdown",
   "metadata": {
    "colab_type": "text",
    "id": "Hv6fd7txs5V7"
   },
   "source": [
    "1. The cost of a mis-classification can be very high.\n",
    "2. You would want a probability of a pair of questions to be duplicates so that you can choose any threshold of choice.\n",
    "3. No strict latency concerns.\n",
    "4. Interpretability is partially important."
   ]
  },
  {
   "cell_type": "markdown",
   "metadata": {
    "colab_type": "text",
    "id": "VIam5Aaks5V9"
   },
   "source": [
    "<h1>2. Machine Learning Probelm </h1>"
   ]
  },
  {
   "cell_type": "markdown",
   "metadata": {
    "colab_type": "text",
    "id": "jnty9Bhls5V-"
   },
   "source": [
    "<h2> 2.1 Data </h2>"
   ]
  },
  {
   "cell_type": "markdown",
   "metadata": {
    "colab_type": "text",
    "id": "rty1PZv3s5V_"
   },
   "source": [
    "<h3> 2.1.1 Data Overview </h3>"
   ]
  },
  {
   "cell_type": "markdown",
   "metadata": {
    "colab_type": "text",
    "id": "-gu8pAt3s5WB"
   },
   "source": [
    "<p> \n",
    "- Data will be in a file Train.csv <br>\n",
    "- Train.csv contains 5 columns : qid1, qid2, question1, question2, is_duplicate <br>\n",
    "- Size of Train.csv - 60MB <br>\n",
    "- Number of rows in Train.csv = 404,290\n",
    "</p>"
   ]
  },
  {
   "cell_type": "markdown",
   "metadata": {
    "colab_type": "text",
    "id": "v9grbSNds5WC"
   },
   "source": [
    "<h3> 2.1.2 Example Data point </h3>"
   ]
  },
  {
   "cell_type": "markdown",
   "metadata": {
    "colab_type": "text",
    "id": "9WEQ-lSxs5WE"
   },
   "source": [
    "<pre>\n",
    "\"id\",\"qid1\",\"qid2\",\"question1\",\"question2\",\"is_duplicate\"\n",
    "\"0\",\"1\",\"2\",\"What is the step by step guide to invest in share market in india?\",\"What is the step by step guide to invest in share market?\",\"0\"\n",
    "\"1\",\"3\",\"4\",\"What is the story of Kohinoor (Koh-i-Noor) Diamond?\",\"What would happen if the Indian government stole the Kohinoor (Koh-i-Noor) diamond back?\",\"0\"\n",
    "\"7\",\"15\",\"16\",\"How can I be a good geologist?\",\"What should I do to be a great geologist?\",\"1\"\n",
    "\"11\",\"23\",\"24\",\"How do I read and find my YouTube comments?\",\"How can I see all my Youtube comments?\",\"1\"\n",
    "</pre>"
   ]
  },
  {
   "cell_type": "markdown",
   "metadata": {
    "colab_type": "text",
    "id": "9qPVfeEjs5WF"
   },
   "source": [
    "<h2> 2.2 Mapping the real world problem to an ML problem </h2>"
   ]
  },
  {
   "cell_type": "markdown",
   "metadata": {
    "colab_type": "text",
    "id": "JfBn0LYPs5WI"
   },
   "source": [
    "<h3> 2.2.1 Type of Machine Leaning Problem </h3>"
   ]
  },
  {
   "cell_type": "markdown",
   "metadata": {
    "colab_type": "text",
    "id": "QEqiUD_Ps5WJ"
   },
   "source": [
    "<p> It is a binary classification problem, for a given pair of questions we need to predict if they are duplicate or not. </p>"
   ]
  },
  {
   "cell_type": "markdown",
   "metadata": {
    "colab_type": "text",
    "id": "keZOL1las5WL"
   },
   "source": [
    "<h3> 2.2.2 Performance Metric </h3>"
   ]
  },
  {
   "cell_type": "markdown",
   "metadata": {
    "colab_type": "text",
    "id": "YHktaBrMs5WN"
   },
   "source": [
    "Source: https://www.kaggle.com/c/quora-question-pairs#evaluation\n",
    "\n",
    "Metric(s): \n",
    "* log-loss : https://www.kaggle.com/wiki/LogarithmicLoss\n",
    "* Binary Confusion Matrix"
   ]
  },
  {
   "cell_type": "markdown",
   "metadata": {
    "colab_type": "text",
    "id": "FmDMBWJjs5WO"
   },
   "source": [
    "<h2> 2.3 Train and Test Construction </h2>"
   ]
  },
  {
   "cell_type": "markdown",
   "metadata": {
    "colab_type": "text",
    "id": "l7PcvKQss5WQ"
   },
   "source": [
    "<p>  </p>\n",
    "<p> We build train and test by randomly splitting in the ratio of 70:30 or 80:20 whatever we choose as we have sufficient points to work with. </p>"
   ]
  },
  {
   "cell_type": "markdown",
   "metadata": {
    "colab_type": "text",
    "id": "cW_MVIlps5WQ"
   },
   "source": [
    "<h1>3. Exploratory Data Analysis </h1>"
   ]
  },
  {
   "cell_type": "code",
   "execution_count": 2,
   "metadata": {
    "colab": {},
    "colab_type": "code",
    "id": "sNzZdmBJs5WS",
    "outputId": "0e1df4ed-4a74-4b0e-e84e-1b3862bbf55d"
   },
   "outputs": [
    {
     "data": {
      "text/html": [
       "        <script type=\"text/javascript\">\n",
       "        window.PlotlyConfig = {MathJaxConfig: 'local'};\n",
       "        if (window.MathJax) {MathJax.Hub.Config({SVG: {font: \"STIX-Web\"}});}\n",
       "        if (typeof require !== 'undefined') {\n",
       "        require.undef(\"plotly\");\n",
       "        requirejs.config({\n",
       "            paths: {\n",
       "                'plotly': ['https://cdn.plot.ly/plotly-latest.min']\n",
       "            }\n",
       "        });\n",
       "        require(['plotly'], function(Plotly) {\n",
       "            window._Plotly = Plotly;\n",
       "        });\n",
       "        }\n",
       "        </script>\n",
       "        "
      ]
     },
     "metadata": {},
     "output_type": "display_data"
    }
   ],
   "source": [
    "import numpy as np\n",
    "import pandas as pd\n",
    "import seaborn as sns\n",
    "import matplotlib.pyplot as plt\n",
    "from subprocess import check_output\n",
    "%matplotlib inline\n",
    "import plotly.offline as py\n",
    "py.init_notebook_mode(connected=True)\n",
    "import plotly.graph_objs as go\n",
    "import plotly.tools as tls\n",
    "import os\n",
    "import gc\n",
    "\n",
    "import re\n",
    "from nltk.corpus import stopwords\n",
    "# !pip install distance\n",
    "import distance\n",
    "from nltk.stem import PorterStemmer\n",
    "from bs4 import BeautifulSoup"
   ]
  },
  {
   "cell_type": "markdown",
   "metadata": {
    "colab_type": "text",
    "id": "__T8jddGs5Wc"
   },
   "source": [
    "<h2> 3.1 Reading data and basic stats </h2>"
   ]
  },
  {
   "cell_type": "code",
   "execution_count": 3,
   "metadata": {
    "colab": {},
    "colab_type": "code",
    "id": "ifM_s9rvs5Wd",
    "outputId": "2e17a7bc-9a5b-4c43-d35b-081cc9f92528"
   },
   "outputs": [
    {
     "name": "stdout",
     "output_type": "stream",
     "text": [
      "Number of data points: 404290\n"
     ]
    }
   ],
   "source": [
    "df = pd.read_csv(\"train.csv\")\n",
    "\n",
    "print(\"Number of data points:\",df.shape[0])"
   ]
  },
  {
   "cell_type": "code",
   "execution_count": 4,
   "metadata": {
    "colab": {},
    "colab_type": "code",
    "id": "34zXGW8gs5Wj",
    "outputId": "ab7d570a-9eeb-477a-b7cb-663ff6fd04fa"
   },
   "outputs": [
    {
     "data": {
      "text/html": [
       "<div>\n",
       "<style scoped>\n",
       "    .dataframe tbody tr th:only-of-type {\n",
       "        vertical-align: middle;\n",
       "    }\n",
       "\n",
       "    .dataframe tbody tr th {\n",
       "        vertical-align: top;\n",
       "    }\n",
       "\n",
       "    .dataframe thead th {\n",
       "        text-align: right;\n",
       "    }\n",
       "</style>\n",
       "<table border=\"1\" class=\"dataframe\">\n",
       "  <thead>\n",
       "    <tr style=\"text-align: right;\">\n",
       "      <th></th>\n",
       "      <th>id</th>\n",
       "      <th>qid1</th>\n",
       "      <th>qid2</th>\n",
       "      <th>question1</th>\n",
       "      <th>question2</th>\n",
       "      <th>is_duplicate</th>\n",
       "    </tr>\n",
       "  </thead>\n",
       "  <tbody>\n",
       "    <tr>\n",
       "      <th>0</th>\n",
       "      <td>0</td>\n",
       "      <td>1</td>\n",
       "      <td>2</td>\n",
       "      <td>What is the step by step guide to invest in sh...</td>\n",
       "      <td>What is the step by step guide to invest in sh...</td>\n",
       "      <td>0</td>\n",
       "    </tr>\n",
       "    <tr>\n",
       "      <th>1</th>\n",
       "      <td>1</td>\n",
       "      <td>3</td>\n",
       "      <td>4</td>\n",
       "      <td>What is the story of Kohinoor (Koh-i-Noor) Dia...</td>\n",
       "      <td>What would happen if the Indian government sto...</td>\n",
       "      <td>0</td>\n",
       "    </tr>\n",
       "    <tr>\n",
       "      <th>2</th>\n",
       "      <td>2</td>\n",
       "      <td>5</td>\n",
       "      <td>6</td>\n",
       "      <td>How can I increase the speed of my internet co...</td>\n",
       "      <td>How can Internet speed be increased by hacking...</td>\n",
       "      <td>0</td>\n",
       "    </tr>\n",
       "    <tr>\n",
       "      <th>3</th>\n",
       "      <td>3</td>\n",
       "      <td>7</td>\n",
       "      <td>8</td>\n",
       "      <td>Why am I mentally very lonely? How can I solve...</td>\n",
       "      <td>Find the remainder when [math]23^{24}[/math] i...</td>\n",
       "      <td>0</td>\n",
       "    </tr>\n",
       "    <tr>\n",
       "      <th>4</th>\n",
       "      <td>4</td>\n",
       "      <td>9</td>\n",
       "      <td>10</td>\n",
       "      <td>Which one dissolve in water quikly sugar, salt...</td>\n",
       "      <td>Which fish would survive in salt water?</td>\n",
       "      <td>0</td>\n",
       "    </tr>\n",
       "  </tbody>\n",
       "</table>\n",
       "</div>"
      ],
      "text/plain": [
       "   id  qid1  qid2                                          question1  \\\n",
       "0   0     1     2  What is the step by step guide to invest in sh...   \n",
       "1   1     3     4  What is the story of Kohinoor (Koh-i-Noor) Dia...   \n",
       "2   2     5     6  How can I increase the speed of my internet co...   \n",
       "3   3     7     8  Why am I mentally very lonely? How can I solve...   \n",
       "4   4     9    10  Which one dissolve in water quikly sugar, salt...   \n",
       "\n",
       "                                           question2  is_duplicate  \n",
       "0  What is the step by step guide to invest in sh...             0  \n",
       "1  What would happen if the Indian government sto...             0  \n",
       "2  How can Internet speed be increased by hacking...             0  \n",
       "3  Find the remainder when [math]23^{24}[/math] i...             0  \n",
       "4            Which fish would survive in salt water?             0  "
      ]
     },
     "execution_count": 4,
     "metadata": {},
     "output_type": "execute_result"
    }
   ],
   "source": [
    "df.head()"
   ]
  },
  {
   "cell_type": "code",
   "execution_count": 5,
   "metadata": {
    "colab": {},
    "colab_type": "code",
    "id": "mx4DFwMns5Wp",
    "outputId": "1141e0bb-2750-489e-8b8c-2ba680f7416c"
   },
   "outputs": [
    {
     "name": "stdout",
     "output_type": "stream",
     "text": [
      "<class 'pandas.core.frame.DataFrame'>\n",
      "RangeIndex: 404290 entries, 0 to 404289\n",
      "Data columns (total 6 columns):\n",
      " #   Column        Non-Null Count   Dtype \n",
      "---  ------        --------------   ----- \n",
      " 0   id            404290 non-null  int64 \n",
      " 1   qid1          404290 non-null  int64 \n",
      " 2   qid2          404290 non-null  int64 \n",
      " 3   question1     404289 non-null  object\n",
      " 4   question2     404288 non-null  object\n",
      " 5   is_duplicate  404290 non-null  int64 \n",
      "dtypes: int64(4), object(2)\n",
      "memory usage: 18.5+ MB\n"
     ]
    }
   ],
   "source": [
    "df.info()"
   ]
  },
  {
   "cell_type": "markdown",
   "metadata": {
    "colab_type": "text",
    "id": "HHHTGTzws5Ww"
   },
   "source": [
    "We are given a minimal number of data fields here, consisting of:\n",
    "\n",
    "- id:  Looks like a simple rowID\n",
    "- qid{1, 2}:  The unique ID of each question in the pair\n",
    "- question{1, 2}:  The actual textual contents of the questions.\n",
    "- is_duplicate:  The label that we are trying to predict - whether the two questions are duplicates of each other."
   ]
  },
  {
   "cell_type": "markdown",
   "metadata": {
    "colab_type": "text",
    "id": "ZulqVzTDs5Wx"
   },
   "source": [
    "<h3> 3.2.1 Distribution of data points among output classes</h3>\n",
    "- Number of duplicate(smilar) and non-duplicate(non similar) questions"
   ]
  },
  {
   "cell_type": "code",
   "execution_count": 11,
   "metadata": {
    "scrolled": true
   },
   "outputs": [
    {
     "data": {
      "text/plain": [
       "<matplotlib.axes._subplots.AxesSubplot at 0xc2cd5e1688>"
      ]
     },
     "execution_count": 11,
     "metadata": {},
     "output_type": "execute_result"
    },
    {
     "data": {
      "image/png": "[encoded data removed]",
      "text/plain": [
       "<Figure size 432x288 with 1 Axes>"
      ]
     },
     "metadata": {
      "needs_background": "light"
     },
     "output_type": "display_data"
    }
   ],
   "source": [
    "df.groupby(\"is_duplicate\")[\"id\"].count().plot.bar()"
   ]
  },
  {
   "cell_type": "code",
   "execution_count": 0,
   "metadata": {
    "colab": {},
    "colab_type": "code",
    "id": "-usI2K2bs5W4",
    "outputId": "ff0a6a8b-65ad-487a-d5ec-df3c223ba620"
   },
   "outputs": [
    {
     "name": "stdout",
     "output_type": "stream",
     "text": [
      "~> Total number of question pairs for training:\n",
      "   404290\n"
     ]
    }
   ],
   "source": [
    "print('~> Total number of question pairs for training:\\n   {}'.format(len(df)))"
   ]
  },
  {
   "cell_type": "code",
   "execution_count": 16,
   "metadata": {},
   "outputs": [
    {
     "data": {
      "text/plain": [
       "0.369197853026293"
      ]
     },
     "execution_count": 16,
     "metadata": {},
     "output_type": "execute_result"
    }
   ],
   "source": [
    "df['is_duplicate'].mean()"
   ]
  },
  {
   "cell_type": "code",
   "execution_count": 17,
   "metadata": {
    "colab": {},
    "colab_type": "code",
    "id": "YiPia6Pjs5W_",
    "outputId": "3cde4cec-4314-4c14-e807-b35e969bf9e8"
   },
   "outputs": [
    {
     "name": "stdout",
     "output_type": "stream",
     "text": [
      "~> Question pairs are not Similar (is_duplicate = 0):\n",
      "   63.08%\n",
      "\n",
      "~> Question pairs are Similar (is_duplicate = 1):\n",
      "   36.92%\n"
     ]
    }
   ],
   "source": [
    "print('~> Question pairs are not Similar (is_duplicate = 0):\\n   {}%'.format(100 - round(df['is_duplicate'].mean()*100, 2)))\n",
    "print('\\n~> Question pairs are Similar (is_duplicate = 1):\\n   {}%'.format(round(df['is_duplicate'].mean()*100, 2)))"
   ]
  },
  {
   "cell_type": "markdown",
   "metadata": {
    "colab_type": "text",
    "id": "wGX03QVRs5XF"
   },
   "source": [
    "<h3> 3.2.2 Number of unique questions </h3>"
   ]
  },
  {
   "cell_type": "code",
   "execution_count": 28,
   "metadata": {
    "colab": {},
    "colab_type": "code",
    "id": "VOKa6aU2s5XG",
    "outputId": "8f644b1d-27c0-4d63-84e2-bb2a42419be2"
   },
   "outputs": [
    {
     "name": "stdout",
     "output_type": "stream",
     "text": [
      "Total number of  Unique Questions are: 537933\n",
      "\n",
      "Number of unique questions that appear more than one time: 111780 (20.77953945937505%)\n",
      "\n",
      "Max number of times a single question is repeated: 157\n",
      "\n"
     ]
    }
   ],
   "source": [
    "qids = pd.Series(df['qid1'].tolist() + df['qid2'].tolist())\n",
    "unique_qs = len(np.unique(qids))\n",
    "qs_morethan_onetime = np.sum(qids.value_counts() > 1)\n",
    "print ('Total number of  Unique Questions are: {}\\n'.format(unique_qs))\n",
    "\n",
    "print ('Number of unique questions that appear more than one time: {} ({}%)\\n'.format(qs_morethan_onetime,qs_morethan_onetime/unique_qs*100))\n",
    "\n",
    "print ('Max number of times a single question is repeated: {}\\n'.format(max(qids.value_counts()))) \n",
    "\n",
    "q_vals=qids.value_counts()\n",
    "\n",
    "q_vals=q_vals.values"
   ]
  },
  {
   "cell_type": "code",
   "execution_count": 29,
   "metadata": {
    "colab": {},
    "colab_type": "code",
    "id": "plcvbd4Cs5XM",
    "outputId": "8e137cc1-e0c4-44f4-9cc2-703302206d4f"
   },
   "outputs": [
    {
     "data": {
      "image/png": "[encoded data removed]",
      "text/plain": [
       "<Figure size 720x432 with 1 Axes>"
      ]
     },
     "metadata": {
      "needs_background": "light"
     },
     "output_type": "display_data"
    }
   ],
   "source": [
    "\n",
    "x = [\"unique_questions\" , \"Repeated Questions\"]\n",
    "y =  [unique_qs , qs_morethan_onetime]\n",
    "\n",
    "plt.figure(figsize=(10, 6))\n",
    "plt.title (\"Plot representing unique and repeated questions  \")\n",
    "sns.barplot(x,y)\n",
    "plt.show()"
   ]
  },
  {
   "cell_type": "markdown",
   "metadata": {
    "colab_type": "text",
    "id": "G-CwGaMms5XS"
   },
   "source": [
    "<h3>3.2.3 Checking for Duplicates </h3>"
   ]
  },
  {
   "cell_type": "code",
   "execution_count": 41,
   "metadata": {
    "colab": {},
    "colab_type": "code",
    "id": "YCiDBHm5s5XT",
    "outputId": "d8011926-4086-4c9a-9fcf-59663a584ec4"
   },
   "outputs": [
    {
     "name": "stdout",
     "output_type": "stream",
     "text": [
      "Number of duplicate questions 0\n"
     ]
    }
   ],
   "source": [
    "#checking whether there are any repeated pair of questions\n",
    "\n",
    "pair_duplicates = df[['qid1','qid2']].groupby(['qid1','qid2']).count().reset_index()\n",
    "\n",
    "print (\"Number of duplicate questions\",df.shape[0] - (pair_duplicates).shape[0])"
   ]
  },
  {
   "cell_type": "code",
   "execution_count": 42,
   "metadata": {},
   "outputs": [
    {
     "data": {
      "text/plain": [
       "2559      157\n",
       "30782     120\n",
       "4044      111\n",
       "2561       88\n",
       "14376      79\n",
       "         ... \n",
       "75109       1\n",
       "81254       1\n",
       "85352       1\n",
       "83305       1\n",
       "168274      1\n",
       "Length: 537933, dtype: int64"
      ]
     },
     "execution_count": 42,
     "metadata": {},
     "output_type": "execute_result"
    }
   ],
   "source": [
    "qids.value_counts(\n",
    ")"
   ]
  },
  {
   "cell_type": "markdown",
   "metadata": {
    "colab_type": "text",
    "id": "iaHTnnt8s5XX"
   },
   "source": [
    "<h3> 3.2.4 Number of occurrences of each question </h3>"
   ]
  },
  {
   "cell_type": "code",
   "execution_count": 43,
   "metadata": {
    "colab": {},
    "colab_type": "code",
    "id": "dPZwk-C8s5Xa",
    "outputId": "0d6d5978-2306-4ed3-cf27-f2a0b974e47d"
   },
   "outputs": [
    {
     "name": "stdout",
     "output_type": "stream",
     "text": [
      "Maximum number of times a single question is repeated: 157\n",
      "\n"
     ]
    },
    {
     "data": {
      "image/png": "[encoded data removed]",
      "text/plain": [
       "<Figure size 1440x720 with 1 Axes>"
      ]
     },
     "metadata": {
      "needs_background": "light"
     },
     "output_type": "display_data"
    }
   ],
   "source": [
    "plt.figure(figsize=(20, 10))\n",
    "\n",
    "plt.hist(qids.value_counts(), bins=160)\n",
    "\n",
    "plt.yscale('log', nonposy='clip')\n",
    "\n",
    "plt.title('Log-Histogram of question appearance counts')\n",
    "\n",
    "plt.xlabel('Number of occurences of question')\n",
    "\n",
    "plt.ylabel('Number of questions')\n",
    "\n",
    "print ('Maximum number of times a single question is repeated: {}\\n'.format(max(qids.value_counts()))) "
   ]
  },
  {
   "cell_type": "markdown",
   "metadata": {
    "colab_type": "text",
    "id": "h_WdYxlYs5Xj"
   },
   "source": [
    "<h3> 3.2.5 Checking for NULL values </h3>"
   ]
  },
  {
   "cell_type": "code",
   "execution_count": 44,
   "metadata": {
    "colab": {},
    "colab_type": "code",
    "id": "r0x1gR2fs5Xk",
    "outputId": "721aef48-e628-40c6-d567-25466f4283e1"
   },
   "outputs": [
    {
     "name": "stdout",
     "output_type": "stream",
     "text": [
      "            id    qid1    qid2                         question1  \\\n",
      "105780  105780  174363  174364    How can I develop android app?   \n",
      "201841  201841  303951  174364  How can I create an Android app?   \n",
      "363362  363362  493340  493341                               NaN   \n",
      "\n",
      "                                                question2  is_duplicate  \n",
      "105780                                                NaN             0  \n",
      "201841                                                NaN             0  \n",
      "363362  My Chinese name is Haichao Yu. What English na...             0  \n"
     ]
    }
   ],
   "source": [
    "#Checking whether there are any rows with null values\n",
    "nan_rows = df[df.isnull().any(1)]\n",
    "print (nan_rows)"
   ]
  },
  {
   "cell_type": "markdown",
   "metadata": {
    "colab_type": "text",
    "id": "CCYmufv6s5Xo"
   },
   "source": [
    "- There are two rows with null values in question2 "
   ]
  },
  {
   "cell_type": "code",
   "execution_count": 45,
   "metadata": {
    "colab": {},
    "colab_type": "code",
    "id": "yLBRyACgs5Xp",
    "outputId": "076046a9-1510-41ef-cf98-15b38661dca4"
   },
   "outputs": [
    {
     "name": "stdout",
     "output_type": "stream",
     "text": [
      "Empty DataFrame\n",
      "Columns: [id, qid1, qid2, question1, question2, is_duplicate]\n",
      "Index: []\n"
     ]
    }
   ],
   "source": [
    "# Filling the null values with ' '\n",
    "df = df.fillna('')\n",
    "nan_rows = df[df.isnull().any(1)]\n",
    "print (nan_rows)"
   ]
  },
  {
   "cell_type": "markdown",
   "metadata": {
    "colab_type": "text",
    "id": "l9Qcl5xfs5Xs"
   },
   "source": [
    "<h2>3.3 Basic Feature Extraction (before cleaning) </h2>"
   ]
  },
  {
   "cell_type": "markdown",
   "metadata": {
    "colab_type": "text",
    "id": "RRzvPYzGs5Xu"
   },
   "source": [
    "Let us now construct a few features like:\n",
    " - ____freq_qid1____ = Frequency of qid1's\n",
    " - ____freq_qid2____ = Frequency of qid2's \n",
    " - ____q1len____ = Length of q1\n",
    " - ____q2len____ = Length of q2\n",
    " - ____q1_n_words____ = Number of words in Question 1\n",
    " - ____q2_n_words____ = Number of words in Question 2\n",
    " - ____word_Common____ = (Number of common unique words in Question 1 and Question 2)\n",
    " - ____word_Total____ =(Total num of words in Question 1 + Total num of words in Question 2)\n",
    " - ____word_share____ = (word_common)/(word_Total)\n",
    " - ____freq_q1+freq_q2____ = sum total of frequency of qid1 and qid2 \n",
    " - ____freq_q1-freq_q2____ = absolute difference of frequency of qid1 and qid2 "
   ]
  },
  {
   "cell_type": "code",
   "execution_count": 63,
   "metadata": {
    "colab": {},
    "colab_type": "code",
    "id": "Iq4DZ-rYs5Xv",
    "outputId": "d34e66da-d84b-49ea-8852-4beb9da688ba"
   },
   "outputs": [
    {
     "data": {
      "text/html": [
       "<div>\n",
       "<style scoped>\n",
       "    .dataframe tbody tr th:only-of-type {\n",
       "        vertical-align: middle;\n",
       "    }\n",
       "\n",
       "    .dataframe tbody tr th {\n",
       "        vertical-align: top;\n",
       "    }\n",
       "\n",
       "    .dataframe thead th {\n",
       "        text-align: right;\n",
       "    }\n",
       "</style>\n",
       "<table border=\"1\" class=\"dataframe\">\n",
       "  <thead>\n",
       "    <tr style=\"text-align: right;\">\n",
       "      <th></th>\n",
       "      <th>id</th>\n",
       "      <th>qid1</th>\n",
       "      <th>qid2</th>\n",
       "      <th>question1</th>\n",
       "      <th>question2</th>\n",
       "      <th>is_duplicate</th>\n",
       "      <th>freq_qid1</th>\n",
       "      <th>freq_qid2</th>\n",
       "      <th>q1len</th>\n",
       "      <th>q2len</th>\n",
       "      <th>q1_n_words</th>\n",
       "      <th>q2_n_words</th>\n",
       "      <th>word_Common</th>\n",
       "      <th>word_Total</th>\n",
       "      <th>word_share</th>\n",
       "      <th>freq_q1+q2</th>\n",
       "      <th>freq_q1-q2</th>\n",
       "    </tr>\n",
       "  </thead>\n",
       "  <tbody>\n",
       "    <tr>\n",
       "      <th>0</th>\n",
       "      <td>0</td>\n",
       "      <td>1</td>\n",
       "      <td>2</td>\n",
       "      <td>What is the step by step guide to invest in sh...</td>\n",
       "      <td>What is the step by step guide to invest in sh...</td>\n",
       "      <td>0</td>\n",
       "      <td>1</td>\n",
       "      <td>1</td>\n",
       "      <td>66</td>\n",
       "      <td>57</td>\n",
       "      <td>14</td>\n",
       "      <td>12</td>\n",
       "      <td>10.0</td>\n",
       "      <td>23.0</td>\n",
       "      <td>0.434783</td>\n",
       "      <td>2</td>\n",
       "      <td>0</td>\n",
       "    </tr>\n",
       "    <tr>\n",
       "      <th>1</th>\n",
       "      <td>1</td>\n",
       "      <td>3</td>\n",
       "      <td>4</td>\n",
       "      <td>What is the story of Kohinoor (Koh-i-Noor) Dia...</td>\n",
       "      <td>What would happen if the Indian government sto...</td>\n",
       "      <td>0</td>\n",
       "      <td>4</td>\n",
       "      <td>1</td>\n",
       "      <td>51</td>\n",
       "      <td>88</td>\n",
       "      <td>8</td>\n",
       "      <td>13</td>\n",
       "      <td>4.0</td>\n",
       "      <td>20.0</td>\n",
       "      <td>0.200000</td>\n",
       "      <td>5</td>\n",
       "      <td>3</td>\n",
       "    </tr>\n",
       "    <tr>\n",
       "      <th>2</th>\n",
       "      <td>2</td>\n",
       "      <td>5</td>\n",
       "      <td>6</td>\n",
       "      <td>How can I increase the speed of my internet co...</td>\n",
       "      <td>How can Internet speed be increased by hacking...</td>\n",
       "      <td>0</td>\n",
       "      <td>1</td>\n",
       "      <td>1</td>\n",
       "      <td>73</td>\n",
       "      <td>59</td>\n",
       "      <td>14</td>\n",
       "      <td>10</td>\n",
       "      <td>4.0</td>\n",
       "      <td>24.0</td>\n",
       "      <td>0.166667</td>\n",
       "      <td>2</td>\n",
       "      <td>0</td>\n",
       "    </tr>\n",
       "    <tr>\n",
       "      <th>3</th>\n",
       "      <td>3</td>\n",
       "      <td>7</td>\n",
       "      <td>8</td>\n",
       "      <td>Why am I mentally very lonely? How can I solve...</td>\n",
       "      <td>Find the remainder when [math]23^{24}[/math] i...</td>\n",
       "      <td>0</td>\n",
       "      <td>1</td>\n",
       "      <td>1</td>\n",
       "      <td>50</td>\n",
       "      <td>65</td>\n",
       "      <td>11</td>\n",
       "      <td>9</td>\n",
       "      <td>0.0</td>\n",
       "      <td>19.0</td>\n",
       "      <td>0.000000</td>\n",
       "      <td>2</td>\n",
       "      <td>0</td>\n",
       "    </tr>\n",
       "    <tr>\n",
       "      <th>4</th>\n",
       "      <td>4</td>\n",
       "      <td>9</td>\n",
       "      <td>10</td>\n",
       "      <td>Which one dissolve in water quikly sugar, salt...</td>\n",
       "      <td>Which fish would survive in salt water?</td>\n",
       "      <td>0</td>\n",
       "      <td>3</td>\n",
       "      <td>1</td>\n",
       "      <td>76</td>\n",
       "      <td>39</td>\n",
       "      <td>13</td>\n",
       "      <td>7</td>\n",
       "      <td>2.0</td>\n",
       "      <td>20.0</td>\n",
       "      <td>0.100000</td>\n",
       "      <td>4</td>\n",
       "      <td>2</td>\n",
       "    </tr>\n",
       "  </tbody>\n",
       "</table>\n",
       "</div>"
      ],
      "text/plain": [
       "   id  qid1  qid2                                          question1  \\\n",
       "0   0     1     2  What is the step by step guide to invest in sh...   \n",
       "1   1     3     4  What is the story of Kohinoor (Koh-i-Noor) Dia...   \n",
       "2   2     5     6  How can I increase the speed of my internet co...   \n",
       "3   3     7     8  Why am I mentally very lonely? How can I solve...   \n",
       "4   4     9    10  Which one dissolve in water quikly sugar, salt...   \n",
       "\n",
       "                                           question2  is_duplicate  freq_qid1  \\\n",
       "0  What is the step by step guide to invest in sh...             0          1   \n",
       "1  What would happen if the Indian government sto...             0          4   \n",
       "2  How can Internet speed be increased by hacking...             0          1   \n",
       "3  Find the remainder when [math]23^{24}[/math] i...             0          1   \n",
       "4            Which fish would survive in salt water?             0          3   \n",
       "\n",
       "   freq_qid2  q1len  q2len  q1_n_words  q2_n_words  word_Common  word_Total  \\\n",
       "0          1     66     57          14          12         10.0        23.0   \n",
       "1          1     51     88           8          13          4.0        20.0   \n",
       "2          1     73     59          14          10          4.0        24.0   \n",
       "3          1     50     65          11           9          0.0        19.0   \n",
       "4          1     76     39          13           7          2.0        20.0   \n",
       "\n",
       "   word_share  freq_q1+q2  freq_q1-q2  \n",
       "0    0.434783           2           0  \n",
       "1    0.200000           5           3  \n",
       "2    0.166667           2           0  \n",
       "3    0.000000           2           0  \n",
       "4    0.100000           4           2  "
      ]
     },
     "execution_count": 63,
     "metadata": {},
     "output_type": "execute_result"
    }
   ],
   "source": [
    "if os.path.isfile('df_fe_without_preprocessing_train.csv'):\n",
    "    df = pd.read_csv(\"df_fe_without_preprocessing_train.csv\",encoding='latin-1')\n",
    "else:\n",
    "    df['freq_qid1'] = df.groupby('qid1')['qid1'].transform('count') \n",
    "    df['freq_qid2'] = df.groupby('qid2')['qid2'].transform('count')\n",
    "    df['q1len'] = df['question1'].str.len() \n",
    "    df['q2len'] = df['question2'].str.len()\n",
    "    df['q1_n_words'] = df['question1'].apply(lambda row: len(row.split(\" \")))\n",
    "    df['q2_n_words'] = df['question2'].apply(lambda row: len(row.split(\" \")))\n",
    "\n",
    "    def normalized_word_Common(row):\n",
    "        w1 = set(map(lambda word: word.lower().strip(), row['question1'].split(\" \")))\n",
    "        w2 = set(map(lambda word: word.lower().strip(), row['question2'].split(\" \")))    \n",
    "        return 1.0 * len(w1 & w2)\n",
    "    df['word_Common'] = df.apply(normalized_word_Common, axis=1)\n",
    "\n",
    "    def normalized_word_Total(row):\n",
    "        w1 = set(map(lambda word: word.lower().strip(), row['question1'].split(\" \")))\n",
    "        w2 = set(map(lambda word: word.lower().strip(), row['question2'].split(\" \")))    \n",
    "        return 1.0 * (len(w1) + len(w2))\n",
    "    df['word_Total'] = df.apply(normalized_word_Total, axis=1)\n",
    "\n",
    "    def normalized_word_share(row):\n",
    "        w1 = set(map(lambda word: word.lower().strip(), row['question1'].split(\" \")))\n",
    "        w2 = set(map(lambda word: word.lower().strip(), row['question2'].split(\" \")))    \n",
    "        return 1.0 * len(w1 & w2)/(len(w1) + len(w2))\n",
    "    df['word_share'] = df.apply(normalized_word_share, axis=1)\n",
    "\n",
    "    df['freq_q1+q2'] = df['freq_qid1']+df['freq_qid2']\n",
    "    df['freq_q1-q2'] = abs(df['freq_qid1']-df['freq_qid2'])\n",
    "\n",
    "    df.to_csv(\"df_fe_without_preprocessing_train.csv\", index=False)\n",
    "\n",
    "df.head()"
   ]
  },
  {
   "cell_type": "markdown",
   "metadata": {
    "colab_type": "text",
    "id": "-zLujovVs5X3"
   },
   "source": [
    "<h3> 3.3.1 Analysis of some of the extracted features </h3>"
   ]
  },
  {
   "cell_type": "markdown",
   "metadata": {
    "colab_type": "text",
    "id": "zRIFQTkCs5X3"
   },
   "source": [
    "- Here are some questions have only one single words."
   ]
  },
  {
   "cell_type": "code",
   "execution_count": 64,
   "metadata": {
    "colab": {},
    "colab_type": "code",
    "id": "jSS0X82Ds5X5",
    "outputId": "5dacd7b2-d955-4435-9639-f1c6acd9b580"
   },
   "outputs": [
    {
     "name": "stdout",
     "output_type": "stream",
     "text": [
      "Minimum length of the questions in question1 :  1\n",
      "Minimum length of the questions in question2 :  1\n",
      "Number of Questions with minimum length [question1] : 67\n",
      "Number of Questions with minimum length [question2] : 24\n"
     ]
    }
   ],
   "source": [
    "print (\"Minimum length of the questions in question1 : \" , min(df['q1_n_words']))\n",
    "\n",
    "print (\"Minimum length of the questions in question2 : \" , min(df['q2_n_words']))\n",
    "\n",
    "print (\"Number of Questions with minimum length [question1] :\", df[df['q1_n_words']== 1].shape[0])\n",
    "print (\"Number of Questions with minimum length [question2] :\", df[df['q2_n_words']== 1].shape[0])"
   ]
  },
  {
   "cell_type": "markdown",
   "metadata": {
    "colab_type": "text",
    "id": "kFzTIHW3s5YB"
   },
   "source": [
    "<h4> 3.3.1.1 Feature: word_share </h4>"
   ]
  },
  {
   "cell_type": "code",
   "execution_count": 66,
   "metadata": {
    "colab": {},
    "colab_type": "code",
    "id": "s4rwGLFDs5YD",
    "outputId": "0103aaa0-3f5a-4eb4-cd22-164a57d7aef0"
   },
   "outputs": [
    {
     "data": {
      "image/png": "[encoded data removed]",
      "text/plain": [
       "<Figure size 864x576 with 2 Axes>"
      ]
     },
     "metadata": {
      "needs_background": "light"
     },
     "output_type": "display_data"
    }
   ],
   "source": [
    "plt.figure(figsize=(12, 8))\n",
    "\n",
    "plt.subplot(1,2,1)\n",
    "sns.violinplot(x = 'is_duplicate', y = 'word_share', data = df[0:])\n",
    "\n",
    "plt.subplot(1,2,2)\n",
    "sns.distplot(df[df['is_duplicate'] == 1.0]['word_share'][0:] , label = \"1\", color = 'red')\n",
    "sns.distplot(df[df['is_duplicate'] == 0.0]['word_share'][0:] , label = \"0\" , color = 'blue' )\n",
    "plt.show()"
   ]
  },
  {
   "cell_type": "markdown",
   "metadata": {
    "colab_type": "text",
    "id": "RcwMI4xps5YJ"
   },
   "source": [
    "- The distributions for normalized word_share have some overlap on the far right-hand side, i.e., there are quite a lot of questions with high word similarity\n",
    "- The average word share and Common no. of words of qid1 and qid2 is more when they are duplicate(Similar)"
   ]
  },
  {
   "cell_type": "markdown",
   "metadata": {
    "colab_type": "text",
    "id": "K0AbOS65s5YL"
   },
   "source": [
    "<h4> 3.3.1.2 Feature: word_Common </h4>"
   ]
  },
  {
   "cell_type": "code",
   "execution_count": 67,
   "metadata": {
    "colab": {},
    "colab_type": "code",
    "id": "_mCFvztcs5YM",
    "outputId": "008ac763-a832-4c11-88fa-5da52cdb9305"
   },
   "outputs": [
    {
     "data": {
      "image/png": "[encoded data removed]",
      "text/plain": [
       "<Figure size 864x576 with 2 Axes>"
      ]
     },
     "metadata": {
      "needs_background": "light"
     },
     "output_type": "display_data"
    }
   ],
   "source": [
    "plt.figure(figsize=(12, 8))\n",
    "\n",
    "plt.subplot(1,2,1)\n",
    "sns.violinplot(x = 'is_duplicate', y = 'word_Common', data = df[0:])\n",
    "\n",
    "plt.subplot(1,2,2)\n",
    "sns.distplot(df[df['is_duplicate'] == 1.0]['word_Common'][0:] , label = \"1\", color = 'red')\n",
    "sns.distplot(df[df['is_duplicate'] == 0.0]['word_Common'][0:] , label = \"0\" , color = 'blue' )\n",
    "plt.show()"
   ]
  },
  {
   "cell_type": "markdown",
   "metadata": {
    "colab_type": "text",
    "id": "9Ej1ouEVs5YR"
   },
   "source": [
    "<p> The distributions of the word_Common feature in similar and non-similar questions are highly overlapping </p>"
   ]
  }
 ],
 "metadata": {
  "colab": {
   "name": "1.Quora.ipynb",
   "provenance": [],
   "version": "0.3.2"
  },
  "kernelspec": {
   "display_name": "Python 3",
   "language": "python",
   "name": "python3"
  },
  "language_info": {
   "codemirror_mode": {
    "name": "ipython",
    "version": 3
   },
   "file_extension": ".py",
   "mimetype": "text/x-python",
   "name": "python",
   "nbconvert_exporter": "python",
   "pygments_lexer": "ipython3",
   "version": "3.7.6"
  }
 },
 "nbformat": 4,
 "nbformat_minor": 1
}
